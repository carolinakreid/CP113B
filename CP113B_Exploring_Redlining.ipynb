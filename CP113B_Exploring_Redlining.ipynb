{
 "cells": [
  {
   "cell_type": "markdown",
   "metadata": {},
   "source": [
    "# CP113B: Community and Economic Development\n",
    "\n",
    "In this datascience module, we're going to explore the relationship between historical patterns of redlining and concentrated poverty today.  Community and economic development is fundamentally about bringing investment back to high-poverty areas due to lack of access to credit and other forms of capital.  It recognizes that poverty is in part due to structural--not individual--causes.  So let's look at how past policies that contributed to disinvestment of minority neighborhoods in the 1940s and 1950s still influence our cities today.\n",
    "\n",
    "In the first part of today's module, we're going to introduce you to the Jupyter Notebook.  We'll then look at some redlining maps, and discuss them as a group.  Finally, we'll analyze whether areas that were indicated as being \"high risk\" on the map have higher rates of poverty today."
   ]
  },
  {
   "cell_type": "markdown",
   "metadata": {},
   "source": [
    "## 1.0 The Jupyter Notebook\n",
    "\n",
    "First of all, note that this page is divided into what are called cells. You can navigate cells by clicking on them or by using the up and down arrows. Cells will be highlighted as you navigate them."
   ]
  },
  {
   "cell_type": "markdown",
   "metadata": {},
   "source": [
    "### Text cells\n",
    "\n",
    "Text cells (like this one) can be edited by double-clicking on them. They're written in a simple format called Markdown to add formatting and section headings. You don't need to learn Markdown, but know the difference between Text Cells and Code Cells."
   ]
  },
  {
   "cell_type": "markdown",
   "metadata": {},
   "source": [
    "### Code cells\n",
    "\n",
    "Other cells contain code in the Python 3 language. Don't worry -- we'll show you everything you need to know to succeed in this part of the class.\n",
    "\n",
    "The fundamental building block of Python code is an expression. Cells can contain multiple lines with multiple expressions. \n",
    "\n",
    "Let's learn how to \"run\" cells."
   ]
  },
  {
   "cell_type": "markdown",
   "metadata": {},
   "source": [
    "### Running cells\n",
    "\n",
    "\"Running a cell\" is equivalent to pressing \"Enter\" on a calculator once you've typed in the expression you want to evaluate: it produces an output. When you run a text cell, it outputs clean, organized writing. When you run a code cell, it computes all of the expressions you want to evaluate, and can output the result of the computation.\n",
    "\n",
    "To run the code in a code cell, first click on that cell to activate it. It'll be highlighted with a little green or blue rectangle. Next, you can either press the ▶| Run button above or press Shift + Return or Shift + Enter. This will run the current cell and select the next one.\n",
    "\n",
    "Text cells are useful for taking notes and keeping your notebook organized, but your data analysis will be done in code cells. We will focus on code cells for the rest of the class.\n",
    "\n",
    "### How to Save Your Work\n",
    "\n",
    "Click on the leftmost icon in the tool bar (left of the plus icon).\n",
    "Alternatively, you can hit Ctrl+S on a PC or Command+Enter on a Mac!\n"
   ]
  },
  {
   "cell_type": "markdown",
   "metadata": {},
   "source": [
    "### Importing libraries\n",
    "\n",
    "This next code cell allows us to import different packages that will allow us to do the analysis later.  Just run the cell.  If the cell runs successfully, you'll see a number show up in the brackets on the left."
   ]
  },
  {
   "cell_type": "code",
   "execution_count": null,
   "metadata": {},
   "outputs": [],
   "source": [
    "#Importing Utilities\n",
    "#These are all pre-written Python packages that we will be using to read in, clean, analyze, and model our data.\n",
    "import os\n",
    "import re\n",
    "import geojson\n",
    "import folium\n",
    "import math\n",
    "import geopandas as gpd\n",
    "import json\n",
    "import matplotlib as mpl\n",
    "import pylab as plt\n",
    "import pandas as pd\n",
    "import numpy as np\n",
    "import seaborn as sns\n",
    "import matplotlib.pyplot as plt\n",
    "import ipywidgets as widgets\n",
    "import geopandas as gpd\n",
    "from IPython.display import IFrame\n",
    "plt.style.use('fivethirtyeight')\n",
    "# import ipywidgets as widgets\n",
    "%matplotlib inline\n",
    "pd.options.display.float_format = '{:.2f}'.format"
   ]
  },
  {
   "cell_type": "markdown",
   "metadata": {},
   "source": [
    "## 2.0  Redlining Maps\n",
    "\n",
    "Before we analyze how redlining has affected current conditions, let's take a look at the redlining map for Oakland.  Run the next three cells. "
   ]
  },
  {
   "cell_type": "code",
   "execution_count": null,
   "metadata": {},
   "outputs": [],
   "source": [
    "#This cell imports the map file for Oakland\n",
    "\n",
    "geo_json_data = json.load(open('CAOakland1937.geojson'))"
   ]
  },
  {
   "cell_type": "code",
   "execution_count": null,
   "metadata": {},
   "outputs": [],
   "source": [
    "# This cell assigns each of the HOLC grades a color\n",
    "\n",
    "def my_color_function(feature):\n",
    "    if feature['properties']['holc_grade']== 'A':\n",
    "        return '#98ff98'\n",
    "    elif feature['properties']['holc_grade']== 'B':\n",
    "        return '#5bc0de'\n",
    "    elif feature['properties']['holc_grade'] =='C':\n",
    "        return '#ffe200'\n",
    "    else:\n",
    "        return '#ff00aa'"
   ]
  },
  {
   "cell_type": "code",
   "execution_count": null,
   "metadata": {},
   "outputs": [],
   "source": [
    "#  This cell draws the map, including the coordinates for Oakland\n",
    "m = folium.Map([37.8044,-122.271], tiles='cartodbpositron', zoom_start=12)\n",
    "folium.GeoJson(\n",
    "    geo_json_data,\n",
    "        style_function=lambda feature: {\n",
    "        'fillColor': my_color_function(feature),\n",
    "        'color' : 'black',\n",
    "        'weight' : 1,   \n",
    "        }\n",
    "    ).add_to(m)\n",
    "m"
   ]
  },
  {
   "cell_type": "markdown",
   "metadata": {},
   "source": [
    "## 3.0  Comparing Redlining Scores with Conditions Today\n",
    "\n",
    "Community development seeks to undo the structural forces that helped to create conditions of concentrated poverty by investing in neighborhoods that were once redlined.  Let's explore how redlining still affects neighborhoods today.\n",
    "\n",
    "Each of the HOLC grades has been given a number.  Neighborhoods assigned a value of 1 were considered \"safe\" to lend in and were indicated in green on the map.  Neighborhoods assigned a value of 2 were also considered \"safe\", were indicated in blue, and borrowers there could get FHA loans.  Neighborhoods assigned a value of 3 (yellow) could still get loans, but the appraisers were indicating that they were concerned that the neighborhood was declining.  Neighborhoods assigned a value of 4 (red) were considered \"hazardous\" and the federal government refused to guarantee mortgages in those areas.\n",
    "\n",
    "We're going to see how scores assigned in the 1940s-1960s influence conditions in Oakland today."
   ]
  },
  {
   "cell_type": "code",
   "execution_count": null,
   "metadata": {},
   "outputs": [],
   "source": [
    "#  First, we're going to read in data that Carolina pulled from Policy Map\n",
    "!pip install xlrd\n",
    "df_2017 = pd.read_excel('Oakland_1990_2017_Data.xlsx', dtype={\"Census Tract\":str})"
   ]
  },
  {
   "cell_type": "code",
   "execution_count": null,
   "metadata": {},
   "outputs": [],
   "source": [
    "# Let's take a look at the data\n",
    "df_2017.head()"
   ]
  },
  {
   "cell_type": "markdown",
   "metadata": {},
   "source": [
    "###  Take a look at the first five rows of data\n",
    "\n",
    "Which census tract has the highest, or worst, redlining grade?  What do you notice about the characteristics of that tract? "
   ]
  },
  {
   "cell_type": "markdown",
   "metadata": {},
   "source": [
    "### Correlation\n",
    "\n",
    "So even looking at 5 census tracts, we can see that there is a relationship between a higher (worse) redlining score and the poverty rate, even 60 years later.  But maybe this was just a coincidence.  We are going to calculate a \"correlation\" statistic for all the census tracts in Oakland that will let us compare the relationships more scientifically.\n",
    "\n",
    "Simply, a correlation statistic tells us the direction and strength of the relationship between two variables.  We're going to create a \"widget\" that lets us easily compare the redlining grade with different census tract characteristics in 1990 and 2017.  \n",
    "\n",
    "Go ahead and run the next two cells."
   ]
  },
  {
   "cell_type": "code",
   "execution_count": null,
   "metadata": {},
   "outputs": [],
   "source": [
    "# widget imports \n",
    "# import the widgets module\n",
    "import ipywidgets as widgets\n",
    "from ipywidgets import interact, interactive, fixed, interact_manual\n",
    "from IPython.display import display"
   ]
  },
  {
   "cell_type": "code",
   "execution_count": null,
   "metadata": {},
   "outputs": [],
   "source": [
    "def f(a, b):\n",
    "    # Polynomial best fit line.\n",
    "    df_2017_fit = np.polyfit(df_2017[a],df_2017[b],1)\n",
    "\n",
    "    # Scatter plots.\n",
    "    ax1= df_2017.plot(kind='scatter', x=a,y=b, color='blue',alpha=0.5, figsize=(12,6))\n",
    "\n",
    "    # Regression lines.\n",
    "    plt.plot(df_2017[a],df_2017_fit[0]*df_2017[a]+df_2017_fit[1], color='darkblue', linewidth=2)\n",
    "\n",
    "    # Regression equations.\n",
    "    x_text = max(df_2017[a])\n",
    "    y_text = min(df_2017[b])\n",
    "    plt.text(x_text,y_text,'y={:.2f}+{:.2f}*x'.format(df_2017_fit[1],df_2017_fit[0]),color='darkgreen',size=12, horizontalalignment='right',\n",
    "         verticalalignment='top')\n",
    "\n",
    "    # Legend, title and labels.\n",
    "    plt.legend(labels=['DF_2017'+'Regression Line','DF_2017'])\n",
    "    plt.title('Relationship between '+ a + ' and ' + b, size=18)\n",
    "    plt.xlabel(a, size=12)\n",
    "    plt.ylabel(b, size=12);\n",
    "    corr = df_2017.corr()[a][b]\n",
    "    print('Correlation: ',corr)\n",
    "    \n",
    "display(widgets.interactive(f, a=df_2017.columns.tolist(),b=df_2017.columns.tolist()))"
   ]
  },
  {
   "cell_type": "markdown",
   "metadata": {},
   "source": [
    "###  Comparing the Redlining Grade with the Poverty Rate in 2017\n",
    "\n",
    "Put \"Redlining Grade\" in the a box and \"Poverty Rate 2017\" in the b box.  How can we interpret the results?  The correlation is a positive .40909, and the line slopes upwards.  This shows that as a census tract's redlining grade gets worse (with 4 being \"redlined\"), the poverty rate goes up.  A correlation coefficient of .4 is considered a \"strong\" correlation (anything above a .3 is meaningful).\n",
    "\n",
    "How about \"Redlining Grade\" correlated with the Percent BA Degree or Higher in 2017.  This time we get a negative correlation coefficient - -0.4173.  This means that there is a negative relationship between a tract's redlining grade and the percent of the population that has a BA - in other words, tracts that were redlined have fewer residents who have completed their BA degree."
   ]
  },
  {
   "cell_type": "markdown",
   "metadata": {},
   "source": [
    "### Gentrification\n",
    "\n",
    "The dataset also includes a numeric \"risk\" score for gentrification, based on the gentrification maps produced by the Urban Displacement Project.  A higher number means the neighborhood is at higher risk of gentrification.  "
   ]
  },
  {
   "cell_type": "markdown",
   "metadata": {},
   "source": [
    "## 4.0 Map the Indicators\n",
    "\n",
    "Now that we're in Python, it becomes pretty easy to make maps of Oakland using the indicators in our dataset.  Feel free to make some maps of the indicators you explored above!"
   ]
  },
  {
   "cell_type": "code",
   "execution_count": null,
   "metadata": {},
   "outputs": [],
   "source": [
    "#  Just run this cell\n",
    "\n",
    "tracts_gdf = gpd.read_file('Oakland_Tracts.shp')\n",
    "merged_gdf=tracts_gdf.set_index(\"GEOID_2\").join(df_2017.set_index(\"Census Tract\"))"
   ]
  },
  {
   "cell_type": "code",
   "execution_count": null,
   "metadata": {},
   "outputs": [],
   "source": [
    "# Run this to get a list of variables in the data\n",
    "df_2017.columns"
   ]
  },
  {
   "cell_type": "code",
   "execution_count": null,
   "metadata": {},
   "outputs": [],
   "source": [
    "# This cell draws the map - just change the text in red after \"column=\" and what you want the title to be to change the indicator being mapped\n",
    "\n",
    "figure, ax = plt.subplots(figsize=(14,10))\n",
    "ax = merged_gdf.plot(column=\"Poverty Rate 2017\", legend=True, ax=ax, cmap=\"Blues\")\n",
    "lims=plt.axis(\"equal\") \n",
    "ax.set_axis_off()\n",
    "ax.set_title('Poverty Rate 2017', fontdict= \n",
    "            {'fontsize':25})\n",
    "plt.show()"
   ]
  },
  {
   "cell_type": "markdown",
   "metadata": {},
   "source": [
    "## 5.0 Bonus Material: Exploring Similar Data for Other Cities\n",
    "\n",
    "This <a href=\"https://www.wenfeixu.com/redliningmap/\">link</a> takes you to a website where Wen Feixu has developed similar analysis for all cities with redlining maps.  Feel free to explore a different city!"
   ]
  },
  {
   "cell_type": "markdown",
   "metadata": {},
   "source": [
    "# 6.0  Resetting the Python Notebook\n",
    "\n",
    "If you want to run through the notebook again on your own, just click on the link in bCourses, and then when you start the session, select \"Kernel\" from the menu above, and then select \"Restart & Clear Output\".  This will give you a \"refreshed\" version of the notebook.  Just don't forget that you need to run the cells in order that they're presented in the notebook!"
   ]
  }
 ],
 "metadata": {
  "kernelspec": {
   "display_name": "Python 3",
   "language": "python",
   "name": "python3"
  },
  "language_info": {
   "codemirror_mode": {
    "name": "ipython",
    "version": 3
   },
   "file_extension": ".py",
   "mimetype": "text/x-python",
   "name": "python",
   "nbconvert_exporter": "python",
   "pygments_lexer": "ipython3",
   "version": "3.6.9"
  }
 },
 "nbformat": 4,
 "nbformat_minor": 2
}
